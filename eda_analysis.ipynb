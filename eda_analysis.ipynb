{
 "cells": [
  {
   "cell_type": "code",
   "execution_count": 2,
   "metadata": {},
   "outputs": [
    {
     "name": "stderr",
     "output_type": "stream",
     "text": [
      "/var/folders/sp/8spqkbd52t91vd__pkq4vgvw0000gq/T/ipykernel_62840/217833862.py:1: DeprecationWarning: \n",
      "Pyarrow will become a required dependency of pandas in the next major release of pandas (pandas 3.0),\n",
      "(to allow more performant data types, such as the Arrow string type, and better interoperability with other libraries)\n",
      "but was not found to be installed on your system.\n",
      "If this would cause problems for you,\n",
      "please provide us feedback at https://github.com/pandas-dev/pandas/issues/54466\n",
      "        \n",
      "  import pandas as pd\n"
     ]
    }
   ],
   "source": [
    "import pandas as pd "
   ]
  },
  {
   "cell_type": "code",
   "execution_count": 38,
   "metadata": {},
   "outputs": [],
   "source": [
    "dt = pd.read_csv('messy_population_data.csv')"
   ]
  },
  {
   "cell_type": "code",
   "execution_count": 5,
   "metadata": {},
   "outputs": [
    {
     "data": {
      "text/html": [
       "<div>\n",
       "<style scoped>\n",
       "    .dataframe tbody tr th:only-of-type {\n",
       "        vertical-align: middle;\n",
       "    }\n",
       "\n",
       "    .dataframe tbody tr th {\n",
       "        vertical-align: top;\n",
       "    }\n",
       "\n",
       "    .dataframe thead th {\n",
       "        text-align: right;\n",
       "    }\n",
       "</style>\n",
       "<table border=\"1\" class=\"dataframe\">\n",
       "  <thead>\n",
       "    <tr style=\"text-align: right;\">\n",
       "      <th></th>\n",
       "      <th>age</th>\n",
       "      <th>gender</th>\n",
       "      <th>year</th>\n",
       "      <th>population</th>\n",
       "    </tr>\n",
       "  </thead>\n",
       "  <tbody>\n",
       "    <tr>\n",
       "      <th>count</th>\n",
       "      <td>119495.000000</td>\n",
       "      <td>119811.000000</td>\n",
       "      <td>119516.000000</td>\n",
       "      <td>1.193780e+05</td>\n",
       "    </tr>\n",
       "    <tr>\n",
       "      <th>mean</th>\n",
       "      <td>50.007038</td>\n",
       "      <td>1.578578</td>\n",
       "      <td>2025.068049</td>\n",
       "      <td>1.112983e+08</td>\n",
       "    </tr>\n",
       "    <tr>\n",
       "      <th>std</th>\n",
       "      <td>29.154144</td>\n",
       "      <td>0.590559</td>\n",
       "      <td>43.584951</td>\n",
       "      <td>1.265205e+09</td>\n",
       "    </tr>\n",
       "    <tr>\n",
       "      <th>min</th>\n",
       "      <td>0.000000</td>\n",
       "      <td>1.000000</td>\n",
       "      <td>1950.000000</td>\n",
       "      <td>2.100000e+01</td>\n",
       "    </tr>\n",
       "    <tr>\n",
       "      <th>25%</th>\n",
       "      <td>25.000000</td>\n",
       "      <td>1.000000</td>\n",
       "      <td>1987.000000</td>\n",
       "      <td>2.316023e+06</td>\n",
       "    </tr>\n",
       "    <tr>\n",
       "      <th>50%</th>\n",
       "      <td>50.000000</td>\n",
       "      <td>2.000000</td>\n",
       "      <td>2025.000000</td>\n",
       "      <td>7.145754e+06</td>\n",
       "    </tr>\n",
       "    <tr>\n",
       "      <th>75%</th>\n",
       "      <td>75.000000</td>\n",
       "      <td>2.000000</td>\n",
       "      <td>2063.000000</td>\n",
       "      <td>1.466388e+07</td>\n",
       "    </tr>\n",
       "    <tr>\n",
       "      <th>max</th>\n",
       "      <td>100.000000</td>\n",
       "      <td>3.000000</td>\n",
       "      <td>2119.000000</td>\n",
       "      <td>3.293043e+10</td>\n",
       "    </tr>\n",
       "  </tbody>\n",
       "</table>\n",
       "</div>"
      ],
      "text/plain": [
       "                 age         gender           year    population\n",
       "count  119495.000000  119811.000000  119516.000000  1.193780e+05\n",
       "mean       50.007038       1.578578    2025.068049  1.112983e+08\n",
       "std        29.154144       0.590559      43.584951  1.265205e+09\n",
       "min         0.000000       1.000000    1950.000000  2.100000e+01\n",
       "25%        25.000000       1.000000    1987.000000  2.316023e+06\n",
       "50%        50.000000       2.000000    2025.000000  7.145754e+06\n",
       "75%        75.000000       2.000000    2063.000000  1.466388e+07\n",
       "max       100.000000       3.000000    2119.000000  3.293043e+10"
      ]
     },
     "execution_count": 5,
     "metadata": {},
     "output_type": "execute_result"
    }
   ],
   "source": [
    "dt.describe()"
   ]
  },
  {
   "cell_type": "code",
   "execution_count": 7,
   "metadata": {},
   "outputs": [
    {
     "data": {
      "text/plain": [
       "income_groups    6306\n",
       "age              6223\n",
       "gender           5907\n",
       "year             6202\n",
       "population       6340\n",
       "dtype: int64"
      ]
     },
     "execution_count": 7,
     "metadata": {},
     "output_type": "execute_result"
    }
   ],
   "source": [
    "#Looking for missing values \n",
    "dt.isnull().sum()"
   ]
  },
  {
   "cell_type": "code",
   "execution_count": 12,
   "metadata": {},
   "outputs": [
    {
     "data": {
      "text/html": [
       "<div>\n",
       "<style scoped>\n",
       "    .dataframe tbody tr th:only-of-type {\n",
       "        vertical-align: middle;\n",
       "    }\n",
       "\n",
       "    .dataframe tbody tr th {\n",
       "        vertical-align: top;\n",
       "    }\n",
       "\n",
       "    .dataframe thead th {\n",
       "        text-align: right;\n",
       "    }\n",
       "</style>\n",
       "<table border=\"1\" class=\"dataframe\">\n",
       "  <thead>\n",
       "    <tr style=\"text-align: right;\">\n",
       "      <th></th>\n",
       "      <th>income_groups</th>\n",
       "      <th>age</th>\n",
       "      <th>gender</th>\n",
       "      <th>year</th>\n",
       "      <th>population</th>\n",
       "    </tr>\n",
       "  </thead>\n",
       "  <tbody>\n",
       "    <tr>\n",
       "      <th>1254</th>\n",
       "      <td>high_income</td>\n",
       "      <td>11.0</td>\n",
       "      <td>1.0</td>\n",
       "      <td>NaN</td>\n",
       "      <td>NaN</td>\n",
       "    </tr>\n",
       "    <tr>\n",
       "      <th>7082</th>\n",
       "      <td>high_income</td>\n",
       "      <td>NaN</td>\n",
       "      <td>1.0</td>\n",
       "      <td>2086.0</td>\n",
       "      <td>NaN</td>\n",
       "    </tr>\n",
       "    <tr>\n",
       "      <th>9556</th>\n",
       "      <td>high_income</td>\n",
       "      <td>36.0</td>\n",
       "      <td>2.0</td>\n",
       "      <td>NaN</td>\n",
       "      <td>NaN</td>\n",
       "    </tr>\n",
       "    <tr>\n",
       "      <th>15820</th>\n",
       "      <td>high_income</td>\n",
       "      <td>55.0</td>\n",
       "      <td>1.0</td>\n",
       "      <td>NaN</td>\n",
       "      <td>NaN</td>\n",
       "    </tr>\n",
       "    <tr>\n",
       "      <th>18629</th>\n",
       "      <td>high_income</td>\n",
       "      <td>NaN</td>\n",
       "      <td>2.0</td>\n",
       "      <td>NaN</td>\n",
       "      <td>NaN</td>\n",
       "    </tr>\n",
       "    <tr>\n",
       "      <th>...</th>\n",
       "      <td>...</td>\n",
       "      <td>...</td>\n",
       "      <td>...</td>\n",
       "      <td>...</td>\n",
       "      <td>...</td>\n",
       "    </tr>\n",
       "    <tr>\n",
       "      <th>125661</th>\n",
       "      <td>upper_middle_income</td>\n",
       "      <td>85.0</td>\n",
       "      <td>1.0</td>\n",
       "      <td>1962.0</td>\n",
       "      <td>120531.0</td>\n",
       "    </tr>\n",
       "    <tr>\n",
       "      <th>125662</th>\n",
       "      <td>upper_middle_income</td>\n",
       "      <td>57.0</td>\n",
       "      <td>2.0</td>\n",
       "      <td>1960.0</td>\n",
       "      <td>4199195.0</td>\n",
       "    </tr>\n",
       "    <tr>\n",
       "      <th>125663</th>\n",
       "      <td>low_income</td>\n",
       "      <td>8.0</td>\n",
       "      <td>1.0</td>\n",
       "      <td>2098.0</td>\n",
       "      <td>17221330.0</td>\n",
       "    </tr>\n",
       "    <tr>\n",
       "      <th>125664</th>\n",
       "      <td>NaN</td>\n",
       "      <td>99.0</td>\n",
       "      <td>1.0</td>\n",
       "      <td>NaN</td>\n",
       "      <td>10101.0</td>\n",
       "    </tr>\n",
       "    <tr>\n",
       "      <th>125665</th>\n",
       "      <td>upper_middle_income</td>\n",
       "      <td>80.0</td>\n",
       "      <td>1.0</td>\n",
       "      <td>2014.0</td>\n",
       "      <td>2887365.0</td>\n",
       "    </tr>\n",
       "  </tbody>\n",
       "</table>\n",
       "<p>2950 rows × 5 columns</p>\n",
       "</div>"
      ],
      "text/plain": [
       "              income_groups   age  gender    year  population\n",
       "1254            high_income  11.0     1.0     NaN         NaN\n",
       "7082            high_income   NaN     1.0  2086.0         NaN\n",
       "9556            high_income  36.0     2.0     NaN         NaN\n",
       "15820           high_income  55.0     1.0     NaN         NaN\n",
       "18629           high_income   NaN     2.0     NaN         NaN\n",
       "...                     ...   ...     ...     ...         ...\n",
       "125661  upper_middle_income  85.0     1.0  1962.0    120531.0\n",
       "125662  upper_middle_income  57.0     2.0  1960.0   4199195.0\n",
       "125663           low_income   8.0     1.0  2098.0  17221330.0\n",
       "125664                  NaN  99.0     1.0     NaN     10101.0\n",
       "125665  upper_middle_income  80.0     1.0  2014.0   2887365.0\n",
       "\n",
       "[2950 rows x 5 columns]"
      ]
     },
     "execution_count": 12,
     "metadata": {},
     "output_type": "execute_result"
    }
   ],
   "source": [
    "#Looking for duplicated values \n",
    "dt.duplicated().sum()\n",
    "dt_duplicated = dt.duplicated()\n",
    "dt[dt_duplicated]"
   ]
  },
  {
   "cell_type": "code",
   "execution_count": 31,
   "metadata": {},
   "outputs": [
    {
     "name": "stdout",
     "output_type": "stream",
     "text": [
      "count        119378.00\n",
      "mean      111298303.15\n",
      "std      1265205486.84\n",
      "min              21.00\n",
      "25%         2316023.00\n",
      "50%         7145753.50\n",
      "75%        14663884.50\n",
      "max     32930428000.00\n",
      "Name: population, dtype: float64\n",
      "count   119495.00\n",
      "mean        50.01\n",
      "std         29.15\n",
      "min          0.00\n",
      "25%         25.00\n",
      "50%         50.00\n",
      "75%         75.00\n",
      "max        100.00\n",
      "Name: age, dtype: float64\n",
      "count   119516.00\n",
      "mean      2025.07\n",
      "std         43.58\n",
      "min       1950.00\n",
      "25%       1987.00\n",
      "50%       2025.00\n",
      "75%       2063.00\n",
      "max       2119.00\n",
      "Name: year, dtype: float64\n"
     ]
    }
   ],
   "source": [
    "#Checking for outliers \n",
    "print(dt['population'].describe())\n",
    "print(dt['age'].describe())\n",
    "print(dt['year'].describe())\n"
   ]
  },
  {
   "cell_type": "code",
   "execution_count": 39,
   "metadata": {},
   "outputs": [
    {
     "data": {
      "text/plain": [
       "income_groups     object\n",
       "age              float64\n",
       "gender           float64\n",
       "year             float64\n",
       "population       float64\n",
       "dtype: object"
      ]
     },
     "execution_count": 39,
     "metadata": {},
     "output_type": "execute_result"
    }
   ],
   "source": [
    "#Checking data types: \n",
    "dt.dtypes"
   ]
  },
  {
   "cell_type": "code",
   "execution_count": 47,
   "metadata": {},
   "outputs": [
    {
     "name": "stdout",
     "output_type": "stream",
     "text": [
      "['high_income' nan 'high_income_typo' 'low_income' 'low_income_typo'\n",
      " 'lower_middle_income' 'lower_middle_income_typo'\n",
      " 'upper_middle_income_typo' 'upper_middle_income']\n",
      "[ 1.  3. nan  2.]\n"
     ]
    }
   ],
   "source": [
    "#Checking for categorical variables \n",
    "\n",
    "print(dt['income_groups'].unique())\n",
    "print(dt['gender'].unique())\n"
   ]
  }
 ],
 "metadata": {
  "kernelspec": {
   "display_name": "Python 3",
   "language": "python",
   "name": "python3"
  },
  "language_info": {
   "codemirror_mode": {
    "name": "ipython",
    "version": 3
   },
   "file_extension": ".py",
   "mimetype": "text/x-python",
   "name": "python",
   "nbconvert_exporter": "python",
   "pygments_lexer": "ipython3",
   "version": "3.11.7"
  }
 },
 "nbformat": 4,
 "nbformat_minor": 2
}
